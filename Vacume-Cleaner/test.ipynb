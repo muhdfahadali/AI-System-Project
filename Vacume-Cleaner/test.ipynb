{
 "cells": [
  {
   "cell_type": "code",
   "execution_count": 13,
   "metadata": {},
   "outputs": [
    {
     "name": "stdout",
     "output_type": "stream",
     "text": [
      "Cleaning Plan: ['R', 'R', 'R', 'R', 'R', 'M', 'R', 'R', 'R', 'R']\n"
     ]
    }
   ],
   "source": [
    "class VacuumCleaner:\n",
    "    def __init__(self, map):\n",
    "        self.map = map\n",
    "        self.start_row, self.start_col = self.findStartingPosition()\n",
    "        self.plan = []\n",
    "        self.visited = set()\n",
    "        self.directions = [\"^\", \">\", \"v\", \"<\"]  # All possible orientations\n",
    "        self.current_orientation = 0  # Initial arbitrary direction (facing up)\n",
    "        self.row, self.col = self.start_row, self.start_col\n",
    "\n",
    "    def moveForward(self):\n",
    "        self.plan.append(\"M\")\n",
    "        if self.directions[self.current_orientation] == \"^\":\n",
    "            self.row -= 1\n",
    "        elif self.directions[self.current_orientation] == \">\":\n",
    "            self.col += 1\n",
    "        elif self.directions[self.current_orientation] == \"v\":\n",
    "            self.row += 1\n",
    "        elif self.directions[self.current_orientation] == \"<\":\n",
    "            self.col -= 1\n",
    "\n",
    "    def turnRight(self):\n",
    "        self.plan.append(\"R\")\n",
    "        self.current_orientation = (self.current_orientation + 1) % 4\n",
    "\n",
    "    def turnLeft(self):\n",
    "        self.plan.append(\"L\")\n",
    "        self.current_orientation = (self.current_orientation - 1) % 4\n",
    "\n",
    "    def getNextPosition(self, direction):\n",
    "        if direction == \"^\":\n",
    "            return self.row - 1, self.col\n",
    "        elif direction == \">\":\n",
    "            return self.row, self.col + 1\n",
    "        elif direction == \"v\":\n",
    "            return self.row + 1, self.col\n",
    "        elif direction == \"<\":\n",
    "            return self.row, self.col - 1\n",
    "\n",
    "    def isValidMove(self, row, col):\n",
    "        return 0 <= row < len(self.map) and 0 <= col < len(self.map[0]) and self.map[row][col] == \" \"\n",
    "\n",
    "    def findStartingPosition(self):\n",
    "        for row in range(len(self.map)):\n",
    "            for col in range(len(self.map[0])):\n",
    "                if self.map[row][col] == \"S\":\n",
    "                    return row, col\n",
    "        return None, None\n",
    "\n",
    "    def findNearestUnclean(self):\n",
    "        for direction in self.directions:\n",
    "            next_row, next_col = self.getNextPosition(direction)\n",
    "            if self.isValidMove(next_row, next_col):\n",
    "                return direction, next_row, next_col\n",
    "        return None, self.row, self.col\n",
    "\n",
    "    def setInitialOrientation(self):\n",
    "        direction, next_row, next_col = self.findNearestUnclean()\n",
    "        while self.directions[self.current_orientation] != direction:\n",
    "            self.turnRight()\n",
    "\n",
    "    def cleanMap(self):\n",
    "        self.setInitialOrientation()\n",
    "        stack = [(self.row, self.col)]\n",
    "        \n",
    "        while stack:\n",
    "            current_row, current_col = stack.pop()\n",
    "            if (current_row, current_col) not in self.visited:\n",
    "                self.visited.add((current_row, current_col))\n",
    "                if (current_row, current_col) != (self.start_row, self.start_col):\n",
    "                    self.row, self.col = current_row, current_col\n",
    "                    self.moveForward()\n",
    "\n",
    "                for _ in range(4):\n",
    "                    next_row, next_col = self.getNextPosition(self.directions[self.current_orientation])\n",
    "                    if self.isValidMove(next_row, next_col) and (next_row, next_col) not in self.visited:\n",
    "                        stack.append((next_row, next_col))\n",
    "                    self.turnRight()\n",
    "\n",
    "# Example usage\n",
    "problem = \"\"\"\n",
    "XXXXXXXXXXXXXXXXXX\n",
    "XXXXXXXXXXXXXXXXXX\n",
    "XXXXXXXXXXXXXXXXXX\n",
    "XXXXXXXXXXXXXXXXXX\n",
    "XXXXX XXXXXXXXXXXX\n",
    "XXXXX XXXXXXXXXXXX\n",
    "XXXXS XXXXXXXXXXXX\n",
    "XXXXXXXXXXXXXXXXXX\n",
    "XXXXXXXXXXXXXXXXXX\n",
    "XXXXXXXXXXXXXXXXXX\n",
    "XXXXXXXXXXXXXXXXXX\n",
    "XXXXXXXXXXXXXXXXXX\n",
    "\"\"\"\n",
    "\n",
    "def getMap(problem):\n",
    "    lines = problem.strip().split(\"\\n\")\n",
    "    return [list(line) for line in lines]\n",
    "\n",
    "map = getMap(problem)\n",
    "vacuumCleaner = VacuumCleaner(map)\n",
    "vacuumCleaner.cleanMap()\n",
    "print(\"Cleaning Plan:\", vacuumCleaner.plan)\n"
   ]
  },
  {
   "cell_type": "code",
   "execution_count": 12,
   "metadata": {},
   "outputs": [
    {
     "data": {
      "text/plain": [
       "'MRRRRMRRRRMRRRR'"
      ]
     },
     "execution_count": 12,
     "metadata": {},
     "output_type": "execute_result"
    }
   ],
   "source": [
    "''.join(['M', 'R', 'R', 'R', 'R', 'M', 'R', 'R', 'R', 'R', 'M', 'R', 'R', 'R', 'R'])"
   ]
  },
  {
   "cell_type": "code",
   "execution_count": null,
   "metadata": {},
   "outputs": [],
   "source": [
    "\n",
    "    for orient in orientations:\n",
    "                    orientation, starting_pos, map = fPlan.getStartingPoint(self.problem)\n",
    "                    vacuumCleaner = fPlan.VacuumCleaner(map)\n",
    "                    vacuumCleaner.orientation = orient\n",
    "                    vacuumCleaner.row, vacuumCleaner.col = starting_pos\n",
    "                    vacuumCleaner.findPlan()\n",
    "                    plan.append(vacuumCleaner.plan)\n",
    "                fplan = [step for sublist in plan for step in sublist]\n",
    "                vacuumCleaner.plan = fplan             \n",
    "                \n",
    "            elif orientation == None:\n",
    "                orientations = [\"<\",\"v\",\"^\",\">\"]\n",
    "                all_plan = {}\n",
    "                for orient in orientations:\n",
    "                    orientation, starting_pos, map = fPlan.getStartingPoint(self.problem)\n",
    "                    vacuumCleaner = fPlan.VacuumCleaner(map)\n",
    "                    vacuumCleaner.orientation = orient\n",
    "                    vacuumCleaner.row, vacuumCleaner.col = starting_pos\n",
    "                    vacuumCleaner.findPlan()\n",
    "                    all_plan[orient] = vacuumCleaner.plan,vacuumCleaner.orientation\n",
    "                \n",
    "                print(\"all_plan : \",all_plan)\n",
    "                # Find the key with the longest list\n",
    "                # for direction, array in all_plan.items():\n",
    "                #     print(f\"{direction}: {''.join(array)}\")\n",
    "                \n",
    "                longest_key = max(all_plan, key=lambda k: len(all_plan[k]))\n",
    "                longest_list = all_plan[longest_key]\n",
    "                result_plan = ''.join(longest_list)\n",
    "                print(\"longest_list : \",longest_list)\n",
    "                \n",
    "                backup_map = self.map\n",
    "                for orient in orientations:\n",
    "                    bmap = copy.deepcopy(backup_map)\n",
    "                    #print(\"bmap before : \",backup_map[4][5])\n",
    "                    print(\"orient,starting_pos,result_plan,self.map\", orient,starting_pos,result_plan,self.map)\n",
    "                    result, last_visited, visited_square, dirtySquare = cPlan.traversePlan(orient,starting_pos,result_plan,self.map)\n",
    "                    \n",
    "                    # Update the backup_map based on dirty_squares\n",
    "                    # print(\"result_plan : \", result_plan)\n",
    "                    #print(\"dirty : \", dirtySquare)\n",
    "                    #print(\"last_visited : \", last_visited)\n",
    "                    #print(\"visited_square : \", visited_square)\n",
    "                    if(visited_square):\n",
    "                        for (row, col) in visited_square:\n",
    "                            bmap[row][col] = '.'\n",
    "\n",
    "                        vacuumCleaner = fPlan.VacuumCleaner(bmap)\n",
    "                        vacuumCleaner.orientation = orient\n",
    "                        vacuumCleaner.row, vacuumCleaner.col = last_visited\n",
    "                        vacuumCleaner.findPlan()\n",
    "                        #fresult = vacuumCleaner.plan\n",
    "                        starting_pos = last_visited\n",
    "                        result_plan = result_plan + ''.join(vacuumCleaner.plan)\n",
    "                        #print(\"vacuumCleaner.plan : \", vacuumCleaner.plan)\n",
    "                        #print(\"fresu : \", result_plan)\n",
    "                \n"
   ]
  },
  {
   "cell_type": "code",
   "execution_count": 4,
   "metadata": {},
   "outputs": [
    {
     "name": "stdout",
     "output_type": "stream",
     "text": [
      "0 b :  0\n"
     ]
    }
   ],
   "source": [
    "a = 115\n",
    "\n",
    "a = 115%5\n",
    "\n",
    "print(a, 'b : ',a%10)"
   ]
  },
  {
   "cell_type": "code",
   "execution_count": null,
   "metadata": {},
   "outputs": [],
   "source": []
  }
 ],
 "metadata": {
  "kernelspec": {
   "display_name": "base",
   "language": "python",
   "name": "python3"
  },
  "language_info": {
   "codemirror_mode": {
    "name": "ipython",
    "version": 3
   },
   "file_extension": ".py",
   "mimetype": "text/x-python",
   "name": "python",
   "nbconvert_exporter": "python",
   "pygments_lexer": "ipython3",
   "version": "3.10.3"
  }
 },
 "nbformat": 4,
 "nbformat_minor": 2
}
